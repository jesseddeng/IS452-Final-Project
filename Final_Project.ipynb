{
 "cells": [
  {
   "cell_type": "code",
   "execution_count": 1,
   "metadata": {},
   "outputs": [],
   "source": [
    "import csv\n",
    "import string\n",
    "import pandas as pd\n",
    "import matplotlib.pyplot as plt\n",
    "import nltk\n",
    "from nltk.corpus import stopwords \n",
    "from nltk.tokenize import word_tokenize\n",
    "\n"
   ]
  },
  {
   "cell_type": "code",
   "execution_count": 2,
   "metadata": {},
   "outputs": [],
   "source": [
    "#Put all file name in a list.\n",
    "File_name=['bbchealth','cbchealth','cnnhealth','everydayhealth','foxnewshealth','gdnhealthcare','goodhealth','KaiserHealthNews'\n",
    ",'latimeshealth','msnhealthnews','NBChealth','nprhealth','nytimeshealth','reuters_health','usnewshealth','wsjhealth']\n",
    "\n",
    "#Create a list to store all text.\n",
    "all_text =[]"
   ]
  },
  {
   "cell_type": "code",
   "execution_count": 3,
   "metadata": {},
   "outputs": [],
   "source": [
    "all_text.clear()\n",
    "#Divided 4 kinds of type to process the files\n",
    "\n",
    "for name in File_name:\n",
    "    if name == 'gdnhealthcare' or name ==  'goodhealth' or name == 'KaiserHealthNews':\n",
    "        #Set the dlimiter as \"|\"\n",
    "        path =\"datasets/\"+name+\".csv\"\n",
    "        data = pd.read_csv(path,delimiter=\"|\",header=None,encoding='cp1252')\n",
    "        #clean http urls\n",
    "        test =data[1].str.split('http',expand=True)\n",
    "        #spllit sentence\n",
    "        test =test[0].str.split(' ',expand=True)\n",
    "        \n",
    "        test=test.values\n",
    "        for i in test.flatten():\n",
    "        # remove None and ''\n",
    "            if i != None and i !='' :\n",
    "                all_text.append(str(i).lower())\n",
    "        \n",
    "        \n",
    "          \n",
    "    elif name =='everydayhealth' or name =='latimeshealth' or name =='nprhealth' or name =='reuters_health' or name =='usnewshealth':\n",
    "        #Set the dlimiter as \"|\"\n",
    "        path =\"datasets/\"+name+\".csv\"\n",
    "        data = pd.read_csv(path,delimiter=\"|\",header=None)\n",
    "        #clean http urls\n",
    "        test =data[2].str.split('http',expand=True)\n",
    "        #spllit sentence\n",
    "        test =test[0].str.split(' ',expand=True)\n",
    "        \n",
    "        test=test.values\n",
    "        for i in test.flatten():\n",
    "        # remove None and ''\n",
    "            if i != None and i !='' :\n",
    "                all_text.append(str(i).lower())\n",
    "                \n",
    "                \n",
    "                \n",
    "    elif name == 'nytimeshealth':\n",
    "        #Set the dlimiter as \"|\"\n",
    "        path =\"datasets/\"+name+\".csv\"\n",
    "        data = pd.read_csv(path,delimiter=\"|\",header=None)\n",
    "        #clean http urls\n",
    "        test =data[1].str.split('http',expand=True)\n",
    "        #spllit sentence\n",
    "        test =test[0].str.split(' ',expand=True)\n",
    "        \n",
    "        test=test.values\n",
    "        for i in test.flatten():\n",
    "        # remove None and ''\n",
    "            if i != None and i !='' :\n",
    "                all_text.append(str(i).lower())\n",
    "                \n",
    "                               \n",
    "    else:\n",
    "        #Set the dlimiter as \"|\"\n",
    "        path =\"datasets/\"+name+\".csv\"\n",
    "        data = pd.read_csv(path,delimiter=\"|\",header=None,encoding='cp1252')\n",
    "        #clean http urls\n",
    "        test =data[2].str.split('http',expand=True)\n",
    "        #spllit sentence\n",
    "        test =test[0].str.split(' ',expand=True)\n",
    "        \n",
    "        test=test.values\n",
    "        for i in test.flatten():\n",
    "        # remove None and ''\n",
    "            if i != None and i !='' :\n",
    "                all_text.append(str(i).lower())\n",
    "\n",
    "\n",
    "\n"
   ]
  },
  {
   "cell_type": "code",
   "execution_count": 4,
   "metadata": {},
   "outputs": [
    {
     "data": {
      "text/plain": [
       "[('rt', 7930),\n",
       " ('health', 5149),\n",
       " ('ebola', 4175),\n",
       " ('new', 3588),\n",
       " ('may', 3104),\n",
       " ('study', 2952),\n",
       " ('us', 2582),\n",
       " ('cancer', 2240),\n",
       " ('says', 2223),\n",
       " ('get', 1857),\n",
       " ('help', 1662),\n",
       " ('care', 1634),\n",
       " ('well', 1557),\n",
       " ('risk', 1538),\n",
       " ('drug', 1486),\n",
       " ('patients', 1365),\n",
       " ('nhs', 1268),\n",
       " ('could', 1179),\n",
       " ('heart', 1175),\n",
       " ('kids', 1154)]"
      ]
     },
     "execution_count": 4,
     "metadata": {},
     "output_type": "execute_result"
    }
   ],
   "source": [
    "#set stop words\n",
    "stop_words = set(stopwords.words('english')) \n",
    "\n",
    "filtered_sentence = [] \n",
    "\n",
    "#remove stop words\n",
    "for w in all_text: \n",
    "    if w not in stop_words: \n",
    "        filtered_sentence.append(w) \n",
    "        \n",
    "from collections import Counter\n",
    "word_count = Counter(filtered_sentence)\n",
    "word_count.most_common(20)"
   ]
  },
  {
   "cell_type": "code",
   "execution_count": 5,
   "metadata": {},
   "outputs": [
    {
     "data": {
      "text/plain": [
       "[('health', 5149),\n",
       " ('ebola', 4175),\n",
       " ('new', 3588),\n",
       " ('may', 3104),\n",
       " ('study', 2952),\n",
       " ('us', 2582),\n",
       " ('cancer', 2240),\n",
       " ('says', 2223),\n",
       " ('get', 1857),\n",
       " ('help', 1662)]"
      ]
     },
     "execution_count": 5,
     "metadata": {},
     "output_type": "execute_result"
    }
   ],
   "source": [
    "#Delete RT because it means retweet.\n",
    "del word_count['rt']\n",
    "\n",
    "\n",
    "top_ten = word_count.most_common(10)\n",
    "top_ten\n",
    "        "
   ]
  },
  {
   "cell_type": "code",
   "execution_count": 6,
   "metadata": {},
   "outputs": [
    {
     "data": {
      "image/png": "[encoded data removed]",
      "text/plain": [
       "<Figure size 1440x720 with 1 Axes>"
      ]
     },
     "metadata": {},
     "output_type": "display_data"
    }
   ],
   "source": [
    "xData=[]\n",
    "yData=[]\n",
    "\n",
    "for word, count in top_ten:\n",
    "    xData.append(word)\n",
    "    yData.append(count)\n",
    "    \n",
    "\n",
    "#Calculate the probability\n",
    "new_yData = [i/sum(word_count.values()) for i in yData]\n",
    "\n",
    "xindex = [1,2,3,4,5,6,7,8,9,10]\n",
    "plt.figure(figsize=(20,10))\n",
    "plt.ylabel('probability',fontsize = 15)\n",
    "plt.bar(xindex, new_yData, align='center')\n",
    "plt.xticks(xindex, xData)\n",
    "plt.xticks(fontsize = 15)\n",
    "plt.yticks(fontsize = 15)\n",
    "plt.show()"
   ]
  }
 ],
 "metadata": {
  "kernelspec": {
   "display_name": "Python 3",
   "language": "python",
   "name": "python3"
  },
  "language_info": {
   "codemirror_mode": {
    "name": "ipython",
    "version": 3
   },
   "file_extension": ".py",
   "mimetype": "text/x-python",
   "name": "python",
   "nbconvert_exporter": "python",
   "pygments_lexer": "ipython3",
   "version": "3.6.5"
  }
 },
 "nbformat": 4,
 "nbformat_minor": 2
}
